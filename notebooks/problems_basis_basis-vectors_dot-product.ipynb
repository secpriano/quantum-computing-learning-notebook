{
 "cells": [
  {
   "cell_type": "code",
   "execution_count": 1,
   "id": "initial_id",
   "metadata": {
    "ExecuteTime": {
     "end_time": "2024-04-18T21:08:17.151882Z",
     "start_time": "2024-04-18T21:08:16.976704Z"
    },
    "collapsed": true
   },
   "outputs": [],
   "source": [
    "import numpy as np"
   ]
  },
  {
   "cell_type": "code",
   "execution_count": 2,
   "id": "2a53638ab83764a2",
   "metadata": {
    "ExecuteTime": {
     "end_time": "2024-04-18T21:08:17.158360Z",
     "start_time": "2024-04-18T21:08:17.152897Z"
    }
   },
   "outputs": [
    {
     "name": "stdout",
     "output_type": "stream",
     "text": [
      "2.732050807568877\n"
     ]
    }
   ],
   "source": [
    "v1=np.array([[np.sqrt(3)],[1]])\n",
    "v2=np.array([[1],[1]])\n",
    "inner_result=np.vdot(v1,v2)\n",
    "print(inner_result)"
   ]
  },
  {
   "cell_type": "markdown",
   "id": "18ce16e68f36d3c9",
   "metadata": {},
   "source": [
    "#### Inner Product with Complex Coefficient 1\n",
    "\n",
    "**problem** \n",
    "\n",
    "Calculate Inner Product\n",
    "$\n",
    "\\vec{v_1}=\n",
    "\\begin{pmatrix}\n",
    "i\\\\\n",
    "1\n",
    "\\end{pmatrix}\n",
    "$\n",
    "and\n",
    "$\n",
    "\\vec{v_2}=\n",
    "\\begin{pmatrix}\n",
    "-i\\\\\n",
    "1\n",
    "\\end{pmatrix}\n",
    "$"
   ]
  },
  {
   "cell_type": "markdown",
   "id": "b12ebd3e1e1e6215",
   "metadata": {},
   "source": [
    "**solution**\n",
    "\n",
    "$\n",
    "\\text{Dot product} =\n",
    "\\vec{v_1} \\vec{v_2} =\n",
    "\\begin{pmatrix}\n",
    "i & 1\n",
    "\\end{pmatrix}\n",
    "\\begin{pmatrix}\n",
    "-i\\\\\n",
    "1\n",
    "\\end{pmatrix}\n",
    "= i \\times -i + 1 \\times i = -i + i = 0\n",
    "$"
   ]
  },
  {
   "cell_type": "code",
   "execution_count": 3,
   "id": "c1582766afe268f",
   "metadata": {
    "ExecuteTime": {
     "end_time": "2024-04-18T21:34:43.612716Z",
     "start_time": "2024-04-18T21:34:43.607051Z"
    }
   },
   "outputs": [
    {
     "name": "stdout",
     "output_type": "stream",
     "text": [
      "0j\n"
     ]
    }
   ],
   "source": [
    "v1=np.array([[1j],[1]])\n",
    "v2=np.array([[-1j],[1]])\n",
    "inner_result=np.vdot(v1,v2)\n",
    "print(inner_result)"
   ]
  },
  {
   "cell_type": "markdown",
   "id": "3ecb47174f0ffcbd",
   "metadata": {},
   "source": [
    "#### Inner Product with Complex Coefficient 2\n",
    "\n",
    "**problem** \n",
    "\n",
    "Calculate Inner Product\n",
    "$\n",
    "\\vec{v_1}=\n",
    "\\begin{pmatrix}\n",
    "1 + 2i\\\\\n",
    "1\n",
    "\\end{pmatrix}\n",
    "$\n",
    "and\n",
    "$\n",
    "\\vec{v_2}=\n",
    "\\begin{pmatrix}\n",
    "1 - i\\\\\n",
    "1\n",
    "\\end{pmatrix}\n",
    "$"
   ]
  },
  {
   "cell_type": "markdown",
   "id": "146430368ba18212",
   "metadata": {},
   "source": [
    "**solution**\n",
    "\n",
    "$\n",
    "\\text{Dot product} =\n",
    "\\vec{v_1} \\vec{v_2} =\n",
    "\\begin{pmatrix}\n",
    "1 - 2i & 1\n",
    "\\end{pmatrix}\n",
    "\\begin{pmatrix}\n",
    "1 - i\\\\\n",
    "1\n",
    "\\end{pmatrix} = (1 - 2i) \\times (1 - i) + 1 \\times 1 = 1 - i - 2i - 2 + 1 = -3i\n",
    "$"
   ]
  },
  {
   "cell_type": "code",
   "execution_count": 4,
   "id": "c6a400ab8a13c848",
   "metadata": {
    "ExecuteTime": {
     "end_time": "2024-04-18T21:57:59.196795Z",
     "start_time": "2024-04-18T21:57:59.192652Z"
    }
   },
   "outputs": [
    {
     "name": "stdout",
     "output_type": "stream",
     "text": [
      "-3j\n"
     ]
    }
   ],
   "source": [
    "v1=np.array([[1+2j],[1]])\n",
    "v2=np.array([[1-1j],[1]])\n",
    "inner_result=np.vdot(v1,v2)\n",
    "print(inner_result)"
   ]
  }
 ],
 "metadata": {
  "kernelspec": {
   "display_name": "Python 3",
   "language": "python",
   "name": "python3"
  },
  "language_info": {
   "codemirror_mode": {
    "name": "ipython",
    "version": 3
   },
   "file_extension": ".py",
   "mimetype": "text/x-python",
   "name": "python",
   "nbconvert_exporter": "python",
   "pygments_lexer": "ipython3",
   "version": "3.12.0"
  }
 },
 "nbformat": 4,
 "nbformat_minor": 5
}
