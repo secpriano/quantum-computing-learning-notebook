{
 "cells": [
  {
   "cell_type": "code",
   "execution_count": 2,
   "metadata": {},
   "outputs": [],
   "source": [
    "import numpy as np\n",
    "from sklearn.preprocessing import normalize"
   ]
  },
  {
   "cell_type": "markdown",
   "metadata": {},
   "source": [
    "#### Normalization by Hand\n",
    "$$\n",
    "\\ket{\\vec{v_1}} = 2\\ket{\\uparrow} + 1\\ket{\\downarrow}\n",
    "$$\n"
   ]
  },
  {
   "cell_type": "markdown",
   "metadata": {},
   "source": [
    "$$\n",
    "\\ket{\\vec{v_1}} \n",
    "= \n",
    "\\frac{2}{\\sqrt{|2|^2 + |1|^2}}\\ket{\\uparrow} + \\frac{1}{\\sqrt{|2|^2 + |1|^2}}\\ket{\\downarrow}\n",
    "=\n",
    "\\frac{2}{\\sqrt{5}}\\ket{\\uparrow} + \\frac{1}{\\sqrt{5}}\\ket{\\downarrow}\n",
    "=\n",
    "0.894427\\ket{\\uparrow} + 0.447214\\ket{\\downarrow}\n",
    "$$"
   ]
  },
  {
   "cell_type": "code",
   "execution_count": 3,
   "metadata": {},
   "outputs": [
    {
     "name": "stdout",
     "output_type": "stream",
     "text": [
      "[[2]\n",
      " [1]]\n",
      "[[0.89442719]\n",
      " [0.4472136 ]]\n"
     ]
    }
   ],
   "source": [
    "v1=np.array([[2],[1]])\n",
    "print(v1)\n",
    "v2 = v1/np.linalg.norm(v1)\n",
    "print(v2)"
   ]
  },
  {
   "cell_type": "markdown",
   "metadata": {},
   "source": [
    "#### Normalization by Hand with Complex Coefficient\n",
    "$$\n",
    "\\ket{\\vec{v_1}} = 2\\ket{\\uparrow} + (1+i)\\ket{\\downarrow}\n",
    "$$"
   ]
  },
  {
   "cell_type": "markdown",
   "metadata": {},
   "source": [
    "$$\n",
    "\\ket{\\vec{v_1}} \n",
    "= \n",
    "\\frac{2}{\\sqrt{|2|^2 + (1+i)(1-i)}}\\ket{\\uparrow} + \\frac{(1+i)}{\\sqrt{|2|^2 + (1+i)(1-i)}}\\ket{\\downarrow}\n",
    "$$\n",
    "$$\n",
    "(1+i)(1-i) = 1-i+i-i^2 = 1-i+i-(-1) = 2\n",
    "$$\n",
    "$$\n",
    "\\ket{\\vec{v_1}} \n",
    "= \n",
    "\\frac{2}{\\sqrt{6}}\\ket{\\uparrow} + \\frac{(1+i)}{\\sqrt{6}}\\ket{\\downarrow}\n",
    "=\n",
    "0.816497\\ket{\\uparrow} + (0.408248+0.408248i)\\ket{\\downarrow}\n",
    "$$"
   ]
  },
  {
   "cell_type": "code",
   "execution_count": 4,
   "metadata": {},
   "outputs": [
    {
     "name": "stdout",
     "output_type": "stream",
     "text": [
      "[[2.+0.j]\n",
      " [1.+1.j]]\n",
      "[[0.81649658+0.j        ]\n",
      " [0.40824829+0.40824829j]]\n"
     ]
    }
   ],
   "source": [
    "v1=np.array([[2],[1+1j]])\n",
    "print(v1)\n",
    "v2 = v1/np.linalg.norm(v1)\n",
    "print(v2)"
   ]
  }
 ],
 "metadata": {
  "kernelspec": {
   "display_name": ".venv",
   "language": "python",
   "name": "python3"
  },
  "language_info": {
   "codemirror_mode": {
    "name": "ipython",
    "version": 3
   },
   "file_extension": ".py",
   "mimetype": "text/x-python",
   "name": "python",
   "nbconvert_exporter": "python",
   "pygments_lexer": "ipython3",
   "version": "3.12.0"
  }
 },
 "nbformat": 4,
 "nbformat_minor": 2
}
