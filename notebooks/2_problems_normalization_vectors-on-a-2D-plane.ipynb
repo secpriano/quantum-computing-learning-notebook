{
 "cells": [
  {
   "cell_type": "code",
   "execution_count": 7,
   "metadata": {},
   "outputs": [],
   "source": [
    "import numpy as np\n",
    "from sklearn.preprocessing import normalize\n",
    "import math"
   ]
  },
  {
   "cell_type": "markdown",
   "metadata": {},
   "source": [
    "#### Normalization by Hand\n",
    "$$\n",
    "\\ket{\\vec{v_1}} = 2\\ket{\\uparrow} + 1\\ket{\\downarrow}\n",
    "$$\n"
   ]
  },
  {
   "cell_type": "markdown",
   "metadata": {},
   "source": [
    "$$\n",
    "\\ket{\\vec{v_1}} \n",
    "= \n",
    "\\frac{2}{\\sqrt{|2|^2 + |1|^2}}\\ket{\\uparrow} + \\frac{1}{\\sqrt{|2|^2 + |1|^2}}\\ket{\\downarrow}\n",
    "=\n",
    "\\frac{2}{\\sqrt{5}}\\ket{\\uparrow} + \\frac{1}{\\sqrt{5}}\\ket{\\downarrow}\n",
    "=\n",
    "0.894427\\ket{\\uparrow} + 0.447214\\ket{\\downarrow}\n",
    "$$"
   ]
  },
  {
   "cell_type": "code",
   "execution_count": 3,
   "metadata": {},
   "outputs": [
    {
     "name": "stdout",
     "output_type": "stream",
     "text": [
      "[[2]\n",
      " [1]]\n",
      "[[0.89442719]\n",
      " [0.4472136 ]]\n"
     ]
    }
   ],
   "source": [
    "v1=np.array([[2],[1]])\n",
    "print(v1)\n",
    "v2 = v1/np.linalg.norm(v1)\n",
    "print(v2)"
   ]
  },
  {
   "cell_type": "markdown",
   "metadata": {},
   "source": [
    "#### Normalization by Hand with Complex Coefficient\n",
    "$$\n",
    "\\ket{\\vec{v_1}} = 2\\ket{\\uparrow} + (1+i)\\ket{\\downarrow}\n",
    "$$"
   ]
  },
  {
   "cell_type": "markdown",
   "metadata": {},
   "source": [
    "$$\n",
    "\\ket{\\vec{v_1}} \n",
    "= \n",
    "\\frac{2}{\\sqrt{|2|^2 + (1+i)(1-i)}}\\ket{\\uparrow} + \\frac{(1+i)}{\\sqrt{|2|^2 + (1+i)(1-i)}}\\ket{\\downarrow}\n",
    "$$\n",
    "$$\n",
    "(1+i)(1-i) = 1-i+i-i^2 = 1-i+i-(-1) = 2\n",
    "$$\n",
    "$$\n",
    "\\ket{\\vec{v_1}} \n",
    "= \n",
    "\\frac{2}{\\sqrt{6}}\\ket{\\uparrow} + \\frac{(1+i)}{\\sqrt{6}}\\ket{\\downarrow}\n",
    "=\n",
    "0.816497\\ket{\\uparrow} + (0.408248+0.408248i)\\ket{\\downarrow}\n",
    "$$"
   ]
  },
  {
   "cell_type": "code",
   "execution_count": 4,
   "metadata": {},
   "outputs": [
    {
     "name": "stdout",
     "output_type": "stream",
     "text": [
      "[[2.+0.j]\n",
      " [1.+1.j]]\n",
      "[[0.81649658+0.j        ]\n",
      " [0.40824829+0.40824829j]]\n"
     ]
    }
   ],
   "source": [
    "v1=np.array([[2],[1+1j]])\n",
    "print(v1)\n",
    "v2 = v1/np.linalg.norm(v1)\n",
    "print(v2)"
   ]
  },
  {
   "cell_type": "markdown",
   "metadata": {},
   "source": [
    "#### Draw on 2D plane\n",
    "$$\n",
    "\\ket{{x\\text{'}}} = \\frac{1}{\\sqrt{2}}(\\ket{x} + \\ket{y}) = \\frac{1}{\\sqrt{2}}\\ket{x} + \\frac{1}{\\sqrt{2}}\\ket{y}\n",
    "\n",
    "\\text{ and} \n",
    "\n",
    "\\ket{{y\\text{'}}} = \\frac{1}{\\sqrt{2}}(\\ket{x} - \\ket{y})  = \\frac{1}{\\sqrt{2}}\\ket{x} - \\frac{1}{\\sqrt{2}}\\ket{y}\n",
    "$$\n",
    "\n",
    "#### Write the column forms\n",
    "$$\n",
    "\\ket{{x\\text{'}}} \n",
    "= \n",
    "\\begin{pmatrix}\n",
    "\\frac{1}{\\sqrt{2}}\\\\\n",
    "\\frac{1}{\\sqrt{2}}\n",
    "\\end{pmatrix}\n",
    "\n",
    "\\text{and} \n",
    "\n",
    "\\ket{{y\\text{'}}} \n",
    "= \n",
    "\\begin{pmatrix}\n",
    "\\frac{1}{\\sqrt{2}}\\\\\n",
    "-\\frac{1}{\\sqrt{2}}\n",
    "\\end{pmatrix}\n",
    "$$\n",
    "\n",
    "#### Are they orthonormal\n",
    "$$\n",
    "\\braket{{x\\text{'}}|{y\\text{'}}} \n",
    "= \n",
    "\\begin{pmatrix}\n",
    "\\frac{1}{\\sqrt{2}} & \\frac{1}{\\sqrt{2}}\n",
    "\\end{pmatrix}\n",
    "\n",
    "\\begin{pmatrix}\n",
    "\\frac{1}{\\sqrt{2}}\\\\\n",
    "-\\frac{1}{\\sqrt{2}}\n",
    "\\end{pmatrix}\n",
    "=\n",
    "\\frac{1}{\\sqrt{2}} \\times \\frac{1}{\\sqrt{2}} + \\frac{1}{\\sqrt{2}} \\times -\\frac{1}{\\sqrt{2}}\n",
    "=\n",
    "0\n",
    "$$\n",
    "$$\n",
    "\\braket{{y\\text{'}}|{x\\text{'}}} = 0\n",
    "$$"
   ]
  },
  {
   "cell_type": "code",
   "execution_count": 14,
   "metadata": {},
   "outputs": [
    {
     "name": "stdout",
     "output_type": "stream",
     "text": [
      "0.9999999999999998 0.9999999999999998 0.0 0.0\n"
     ]
    }
   ],
   "source": [
    "x=np.array([[1/math.sqrt(2)],[1/math.sqrt(2)]])\n",
    "y=np.array([[1/math.sqrt(2)],[1/-math.sqrt(2)]])\n",
    "inner_result_x_x=np.vdot(x,x)\n",
    "inner_result_y_y=np.vdot(y,y)\n",
    "inner_result_x_y=np.vdot(x,y)\n",
    "inner_result_y_x=np.vdot(y,x)\n",
    "print(inner_result_x_x, inner_result_y_y, inner_result_x_y, inner_result_y_x)"
   ]
  }
 ],
 "metadata": {
  "kernelspec": {
   "display_name": ".venv",
   "language": "python",
   "name": "python3"
  },
  "language_info": {
   "codemirror_mode": {
    "name": "ipython",
    "version": 3
   },
   "file_extension": ".py",
   "mimetype": "text/x-python",
   "name": "python",
   "nbconvert_exporter": "python",
   "pygments_lexer": "ipython3",
   "version": "3.12.0"
  }
 },
 "nbformat": 4,
 "nbformat_minor": 2
}
